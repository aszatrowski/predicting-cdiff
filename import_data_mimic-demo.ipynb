{
 "cells": [
  {
   "cell_type": "markdown",
   "id": "31d19d75",
   "metadata": {},
   "source": [
    "# Data Load & Wrangle for Predicting C. Diff"
   ]
  },
  {
   "cell_type": "code",
   "execution_count": null,
   "id": "7fd34f29",
   "metadata": {},
   "outputs": [],
   "source": [
    "import pandas as pd\n",
    "import numpy as np\n",
    "import matplotlib.pyplot as plt\n",
    "import seaborn as sns\n",
    "import duckdb"
   ]
  },
  {
   "cell_type": "code",
   "execution_count": 11,
   "id": "97707da2",
   "metadata": {},
   "outputs": [
    {
     "data": {
      "application/vnd.microsoft.datawrangler.viewer.v0+json": {
       "columns": [
        {
         "name": "index",
         "rawType": "int64",
         "type": "integer"
        },
        {
         "name": "subject_id",
         "rawType": "int64",
         "type": "integer"
        },
        {
         "name": "hadm_id",
         "rawType": "int64",
         "type": "integer"
        },
        {
         "name": "admittime",
         "rawType": "object",
         "type": "string"
        },
        {
         "name": "admission_type",
         "rawType": "object",
         "type": "string"
        },
        {
         "name": "admission_location",
         "rawType": "object",
         "type": "string"
        },
        {
         "name": "insurance",
         "rawType": "object",
         "type": "string"
        },
        {
         "name": "diagnosis",
         "rawType": "object",
         "type": "string"
        }
       ],
       "conversionMethod": "pd.DataFrame",
       "ref": "786c15b0-897f-4a6e-9523-b04ff5617298",
       "rows": [
        [
         "0",
         "10006",
         "142345",
         "2164-10-23 21:09:00",
         "EMERGENCY",
         "EMERGENCY ROOM ADMIT",
         "Medicare",
         "SEPSIS"
        ],
        [
         "1",
         "10011",
         "105331",
         "2126-08-14 22:32:00",
         "EMERGENCY",
         "TRANSFER FROM HOSP/EXTRAM",
         "Private",
         "HEPATITIS B"
        ],
        [
         "2",
         "10013",
         "165520",
         "2125-10-04 23:36:00",
         "EMERGENCY",
         "TRANSFER FROM HOSP/EXTRAM",
         "Medicare",
         "SEPSIS"
        ],
        [
         "3",
         "10017",
         "199207",
         "2149-05-26 17:19:00",
         "EMERGENCY",
         "EMERGENCY ROOM ADMIT",
         "Medicare",
         "HUMERAL FRACTURE"
        ],
        [
         "4",
         "10019",
         "177759",
         "2163-05-14 20:43:00",
         "EMERGENCY",
         "TRANSFER FROM HOSP/EXTRAM",
         "Medicare",
         "ALCOHOLIC HEPATITIS"
        ]
       ],
       "shape": {
        "columns": 7,
        "rows": 5
       }
      },
      "text/html": [
       "<div>\n",
       "<style scoped>\n",
       "    .dataframe tbody tr th:only-of-type {\n",
       "        vertical-align: middle;\n",
       "    }\n",
       "\n",
       "    .dataframe tbody tr th {\n",
       "        vertical-align: top;\n",
       "    }\n",
       "\n",
       "    .dataframe thead th {\n",
       "        text-align: right;\n",
       "    }\n",
       "</style>\n",
       "<table border=\"1\" class=\"dataframe\">\n",
       "  <thead>\n",
       "    <tr style=\"text-align: right;\">\n",
       "      <th></th>\n",
       "      <th>subject_id</th>\n",
       "      <th>hadm_id</th>\n",
       "      <th>admittime</th>\n",
       "      <th>admission_type</th>\n",
       "      <th>admission_location</th>\n",
       "      <th>insurance</th>\n",
       "      <th>diagnosis</th>\n",
       "    </tr>\n",
       "  </thead>\n",
       "  <tbody>\n",
       "    <tr>\n",
       "      <th>0</th>\n",
       "      <td>10006</td>\n",
       "      <td>142345</td>\n",
       "      <td>2164-10-23 21:09:00</td>\n",
       "      <td>EMERGENCY</td>\n",
       "      <td>EMERGENCY ROOM ADMIT</td>\n",
       "      <td>Medicare</td>\n",
       "      <td>SEPSIS</td>\n",
       "    </tr>\n",
       "    <tr>\n",
       "      <th>1</th>\n",
       "      <td>10011</td>\n",
       "      <td>105331</td>\n",
       "      <td>2126-08-14 22:32:00</td>\n",
       "      <td>EMERGENCY</td>\n",
       "      <td>TRANSFER FROM HOSP/EXTRAM</td>\n",
       "      <td>Private</td>\n",
       "      <td>HEPATITIS B</td>\n",
       "    </tr>\n",
       "    <tr>\n",
       "      <th>2</th>\n",
       "      <td>10013</td>\n",
       "      <td>165520</td>\n",
       "      <td>2125-10-04 23:36:00</td>\n",
       "      <td>EMERGENCY</td>\n",
       "      <td>TRANSFER FROM HOSP/EXTRAM</td>\n",
       "      <td>Medicare</td>\n",
       "      <td>SEPSIS</td>\n",
       "    </tr>\n",
       "    <tr>\n",
       "      <th>3</th>\n",
       "      <td>10017</td>\n",
       "      <td>199207</td>\n",
       "      <td>2149-05-26 17:19:00</td>\n",
       "      <td>EMERGENCY</td>\n",
       "      <td>EMERGENCY ROOM ADMIT</td>\n",
       "      <td>Medicare</td>\n",
       "      <td>HUMERAL FRACTURE</td>\n",
       "    </tr>\n",
       "    <tr>\n",
       "      <th>4</th>\n",
       "      <td>10019</td>\n",
       "      <td>177759</td>\n",
       "      <td>2163-05-14 20:43:00</td>\n",
       "      <td>EMERGENCY</td>\n",
       "      <td>TRANSFER FROM HOSP/EXTRAM</td>\n",
       "      <td>Medicare</td>\n",
       "      <td>ALCOHOLIC HEPATITIS</td>\n",
       "    </tr>\n",
       "  </tbody>\n",
       "</table>\n",
       "</div>"
      ],
      "text/plain": [
       "   subject_id  hadm_id            admittime admission_type  \\\n",
       "0       10006   142345  2164-10-23 21:09:00      EMERGENCY   \n",
       "1       10011   105331  2126-08-14 22:32:00      EMERGENCY   \n",
       "2       10013   165520  2125-10-04 23:36:00      EMERGENCY   \n",
       "3       10017   199207  2149-05-26 17:19:00      EMERGENCY   \n",
       "4       10019   177759  2163-05-14 20:43:00      EMERGENCY   \n",
       "\n",
       "          admission_location insurance            diagnosis  \n",
       "0       EMERGENCY ROOM ADMIT  Medicare               SEPSIS  \n",
       "1  TRANSFER FROM HOSP/EXTRAM   Private          HEPATITIS B  \n",
       "2  TRANSFER FROM HOSP/EXTRAM  Medicare               SEPSIS  \n",
       "3       EMERGENCY ROOM ADMIT  Medicare     HUMERAL FRACTURE  \n",
       "4  TRANSFER FROM HOSP/EXTRAM  Medicare  ALCOHOLIC HEPATITIS  "
      ]
     },
     "execution_count": 11,
     "metadata": {},
     "output_type": "execute_result"
    }
   ],
   "source": [
    "demographics = pd.read_csv('mimic-demo/PATIENTS.csv')[['subject_id', 'gender', 'dob']]\n",
    "demographics.head()\n",
    "admissions = pd.read_csv('mimic-demo/ADMISSIONS.csv')[['subject_id', 'hadm_id', 'admittime', 'admission_type', 'admission_location', 'insurance', 'diagnosis']]\n",
    "admissions.head()"
   ]
  }
 ],
 "metadata": {
  "kernelspec": {
   "display_name": "ml4h-ext",
   "language": "python",
   "name": "python3"
  },
  "language_info": {
   "codemirror_mode": {
    "name": "ipython",
    "version": 3
   },
   "file_extension": ".py",
   "mimetype": "text/x-python",
   "name": "python",
   "nbconvert_exporter": "python",
   "pygments_lexer": "ipython3",
   "version": "3.10.16"
  }
 },
 "nbformat": 4,
 "nbformat_minor": 5
}
