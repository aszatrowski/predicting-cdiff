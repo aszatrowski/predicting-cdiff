{
 "cells": [
  {
   "cell_type": "markdown",
   "id": "45d8fa63",
   "metadata": {},
   "source": [
    "# Random Survival Forest Model"
   ]
  },
  {
   "cell_type": "code",
   "execution_count": 22,
   "id": "8fbfcb42",
   "metadata": {},
   "outputs": [],
   "source": [
    "import pandas as pd\n",
    "import numpy as np\n",
    "import matplotlib as plt\n",
    "import seaborn as sns\n",
    "\n",
    "from sklearn import set_config\n",
    "from sklearn.model_selection import train_test_split\n",
    "from sklearn.model_selection import KFold, GridSearchCV, StratifiedKFold\n",
    "\n",
    "from sksurv.ensemble import RandomSurvivalForest\n",
    "from sksurv.metrics import concordance_index_censored, as_concordance_index_ipcw_scorer, as_cumulative_dynamic_auc_scorer, as_integrated_brier_score_scorer\n",
    "from sksurv.util import Surv\n",
    "\n",
    "import time\n",
    "from datetime import datetime, timedelta\n",
    "import joblib"
   ]
  },
  {
   "cell_type": "code",
   "execution_count": 23,
   "id": "b9a1a252",
   "metadata": {},
   "outputs": [],
   "source": [
    "training_data_imputed_df = pd.read_csv(\"training_data_imputed_simple_TRAIN.csv.gz\") \n",
    "# Filter to 30 day window\n",
    "survival_data_30d = training_data_imputed_df.loc[\n",
    "    (training_data_imputed_df['survival_time'] < 30) &\n",
    "    (training_data_imputed_df['survival_time'] > 0)\n",
    "    ]\n",
    "survival_data_30d = survival_data_30d.astype({\"cdiff_survival_flag\": bool})"
   ]
  },
  {
   "cell_type": "code",
   "execution_count": 3,
   "id": "2c4811bc",
   "metadata": {},
   "outputs": [],
   "source": [
    "train_df, val_df, = train_test_split(survival_data_30d, test_size=0.2, random_state=0)"
   ]
  },
  {
   "cell_type": "code",
   "execution_count": 4,
   "id": "f0c00c65",
   "metadata": {},
   "outputs": [],
   "source": [
    "X_train = train_df.drop(['cdiff_2d_flag', 'cdiff_7d_flag', 'cdiff_30d_flag','cdiff_label_elisa_2d','cdiff_survival_flag','survival_time'], axis=1)\n",
    "y_train = train_df[['cdiff_survival_flag', 'survival_time']]\n",
    "y_array_event_time_train = np.array(\n",
    "    list(zip(y_train['cdiff_survival_flag'], y_train['survival_time'])), \n",
    "    dtype=[('status', bool), ('survival_in_days', float)]\n",
    ")\n",
    "X_val = val_df.drop(['cdiff_2d_flag', 'cdiff_7d_flag', 'cdiff_30d_flag', 'cdiff_survival_flag', 'survival_time'], axis=1)\n",
    "y_val = val_df[['cdiff_survival_flag', 'survival_time']]\n",
    "y_array_event_time_val = np.array(\n",
    "    list(zip(y_val['cdiff_survival_flag'], y_val['survival_time'])), \n",
    "    dtype=[('status', bool), ('survival_in_days', float)]\n",
    ")"
   ]
  },
  {
   "cell_type": "code",
   "execution_count": 25,
   "id": "bd546551-fda2-49c7-9bd8-447e09d4ced2",
   "metadata": {},
   "outputs": [],
   "source": [
    "X_train_val = train_df.drop(['cdiff_2d_flag', 'cdiff_7d_flag', 'cdiff_30d_flag','cdiff_label_elisa_2d','cdiff_survival_flag','survival_time'], axis=1)\n",
    "\n",
    "y_train_val = train_df[['cdiff_survival_flag', 'survival_time']]\n",
    "\n",
    "y_array_event_time_train = Surv.from_dataframe(time = 'survival_time', event = 'cdiff_survival_flag', data = y_train_val)"
   ]
  },
  {
   "cell_type": "code",
   "execution_count": 33,
   "id": "f3775a88-bcc1-46ff-b06f-e64312c78909",
   "metadata": {
    "scrolled": true
   },
   "outputs": [],
   "source": [
    "cdiff_X_train, cdiff_X_test, cdiff_y_train, cdiff_y_test = train_test_split(\n",
    "    X_train,\n",
    "    y_array_event_time_train,\n",
    "    stratify=y_array_event_time_train['cdiff_survival_flag'],\n",
    "    test_size = 0.2,\n",
    "    random_state=1\n",
    ")\n",
    "lower, upper = np.percentile(y_array_event_time_train['survival_time'], [10, 90])\n",
    "cdiff_times = np.arange(lower, upper + 1)"
   ]
  },
  {
   "cell_type": "code",
   "execution_count": 7,
   "id": "54e5e5c4-8eff-4154-9f83-92e6eaaa3cf0",
   "metadata": {
    "scrolled": true
   },
   "outputs": [
    {
     "name": "stdout",
     "output_type": "stream",
     "text": [
      "Training started at: 2025-05-24 16:24:37\n",
      "Starting GridSearchCV to find optimal parameters...\n"
     ]
    },
    {
     "name": "stderr",
     "output_type": "stream",
     "text": [
      "[Parallel(n_jobs=-1)]: Using backend ThreadingBackend with 10 concurrent workers.\n",
      "[Parallel(n_jobs=-1)]: Done   2 out of  10 | elapsed:    1.0s remaining:    4.1s\n",
      "[Parallel(n_jobs=-1)]: Done  10 out of  10 | elapsed:    4.7s finished\n",
      "[Parallel(n_jobs=10)]: Using backend ThreadingBackend with 10 concurrent workers.\n",
      "[Parallel(n_jobs=10)]: Done   2 out of  10 | elapsed:    1.8s remaining:    7.1s\n",
      "[Parallel(n_jobs=10)]: Done  10 out of  10 | elapsed:    1.8s finished\n",
      "[Parallel(n_jobs=-1)]: Using backend ThreadingBackend with 10 concurrent workers.\n",
      "[Parallel(n_jobs=-1)]: Done   2 out of  10 | elapsed:    1.0s remaining:    4.1s\n",
      "[Parallel(n_jobs=-1)]: Done  10 out of  10 | elapsed:    4.5s finished\n",
      "[Parallel(n_jobs=10)]: Using backend ThreadingBackend with 10 concurrent workers.\n",
      "[Parallel(n_jobs=10)]: Done   2 out of  10 | elapsed:    1.7s remaining:    6.8s\n",
      "[Parallel(n_jobs=10)]: Done  10 out of  10 | elapsed:    1.7s finished\n",
      "[Parallel(n_jobs=-1)]: Using backend ThreadingBackend with 10 concurrent workers.\n",
      "[Parallel(n_jobs=-1)]: Done   2 out of  10 | elapsed:    1.0s remaining:    4.1s\n",
      "[Parallel(n_jobs=-1)]: Done  10 out of  10 | elapsed:    4.6s finished\n",
      "[Parallel(n_jobs=10)]: Using backend ThreadingBackend with 10 concurrent workers.\n",
      "[Parallel(n_jobs=10)]: Done   2 out of  10 | elapsed:    1.8s remaining:    7.4s\n",
      "[Parallel(n_jobs=10)]: Done  10 out of  10 | elapsed:    1.8s finished\n",
      "[Parallel(n_jobs=-1)]: Using backend ThreadingBackend with 10 concurrent workers.\n",
      "[Parallel(n_jobs=-1)]: Done  30 tasks      | elapsed:    6.0s\n",
      "[Parallel(n_jobs=-1)]: Done  50 out of  50 | elapsed:   10.8s finished\n",
      "[Parallel(n_jobs=10)]: Using backend ThreadingBackend with 10 concurrent workers.\n",
      "[Parallel(n_jobs=10)]: Done  30 tasks      | elapsed:    5.4s\n",
      "[Parallel(n_jobs=10)]: Done  50 out of  50 | elapsed:    8.9s finished\n",
      "[Parallel(n_jobs=-1)]: Using backend ThreadingBackend with 10 concurrent workers.\n",
      "[Parallel(n_jobs=-1)]: Done  30 tasks      | elapsed:    6.0s\n",
      "[Parallel(n_jobs=-1)]: Done  50 out of  50 | elapsed:   10.9s finished\n",
      "[Parallel(n_jobs=10)]: Using backend ThreadingBackend with 10 concurrent workers.\n",
      "[Parallel(n_jobs=10)]: Done  30 tasks      | elapsed:    5.3s\n",
      "[Parallel(n_jobs=10)]: Done  50 out of  50 | elapsed:    8.7s finished\n",
      "[Parallel(n_jobs=-1)]: Using backend ThreadingBackend with 10 concurrent workers.\n",
      "[Parallel(n_jobs=-1)]: Done  30 tasks      | elapsed:    6.1s\n",
      "[Parallel(n_jobs=-1)]: Done  50 out of  50 | elapsed:   11.1s finished\n",
      "[Parallel(n_jobs=10)]: Using backend ThreadingBackend with 10 concurrent workers.\n",
      "[Parallel(n_jobs=10)]: Done  30 tasks      | elapsed:    5.6s\n",
      "[Parallel(n_jobs=10)]: Done  50 out of  50 | elapsed:    9.2s finished\n",
      "[Parallel(n_jobs=-1)]: Using backend ThreadingBackend with 10 concurrent workers.\n",
      "[Parallel(n_jobs=-1)]: Done  30 tasks      | elapsed:    6.1s\n",
      "[Parallel(n_jobs=-1)]: Done 100 out of 100 | elapsed:   21.6s finished\n",
      "[Parallel(n_jobs=10)]: Using backend ThreadingBackend with 10 concurrent workers.\n",
      "[Parallel(n_jobs=10)]: Done  30 tasks      | elapsed:    5.4s\n",
      "[Parallel(n_jobs=10)]: Done 100 out of 100 | elapsed:   17.7s finished\n",
      "[Parallel(n_jobs=-1)]: Using backend ThreadingBackend with 10 concurrent workers.\n",
      "[Parallel(n_jobs=-1)]: Done  30 tasks      | elapsed:    6.1s\n",
      "[Parallel(n_jobs=-1)]: Done 100 out of 100 | elapsed:   21.7s finished\n",
      "[Parallel(n_jobs=10)]: Using backend ThreadingBackend with 10 concurrent workers.\n",
      "[Parallel(n_jobs=10)]: Done  30 tasks      | elapsed:    5.2s\n",
      "[Parallel(n_jobs=10)]: Done 100 out of 100 | elapsed:   17.3s finished\n",
      "[Parallel(n_jobs=-1)]: Using backend ThreadingBackend with 10 concurrent workers.\n",
      "[Parallel(n_jobs=-1)]: Done  30 tasks      | elapsed:    6.1s\n",
      "[Parallel(n_jobs=-1)]: Done 100 out of 100 | elapsed:   21.5s finished\n",
      "[Parallel(n_jobs=10)]: Using backend ThreadingBackend with 10 concurrent workers.\n",
      "[Parallel(n_jobs=10)]: Done  30 tasks      | elapsed:    5.5s\n",
      "[Parallel(n_jobs=10)]: Done 100 out of 100 | elapsed:   18.4s finished\n",
      "[Parallel(n_jobs=-1)]: Using backend ThreadingBackend with 10 concurrent workers.\n",
      "[Parallel(n_jobs=-1)]: Done   2 out of  10 | elapsed:    5.9s remaining:   23.6s\n",
      "[Parallel(n_jobs=-1)]: Done  10 out of  10 | elapsed:    8.6s finished\n",
      "[Parallel(n_jobs=10)]: Using backend ThreadingBackend with 10 concurrent workers.\n",
      "[Parallel(n_jobs=10)]: Done   2 out of  10 | elapsed:    1.8s remaining:    7.1s\n",
      "[Parallel(n_jobs=10)]: Done  10 out of  10 | elapsed:    1.8s finished\n",
      "[Parallel(n_jobs=-1)]: Using backend ThreadingBackend with 10 concurrent workers.\n",
      "[Parallel(n_jobs=-1)]: Done   2 out of  10 | elapsed:    4.7s remaining:   19.0s\n",
      "[Parallel(n_jobs=-1)]: Done  10 out of  10 | elapsed:    9.3s finished\n",
      "[Parallel(n_jobs=10)]: Using backend ThreadingBackend with 10 concurrent workers.\n",
      "[Parallel(n_jobs=10)]: Done   2 out of  10 | elapsed:    1.7s remaining:    6.9s\n",
      "[Parallel(n_jobs=10)]: Done  10 out of  10 | elapsed:    1.8s finished\n",
      "[Parallel(n_jobs=-1)]: Using backend ThreadingBackend with 10 concurrent workers.\n",
      "[Parallel(n_jobs=-1)]: Done   2 out of  10 | elapsed:    4.6s remaining:   18.3s\n",
      "[Parallel(n_jobs=-1)]: Done  10 out of  10 | elapsed:    9.2s finished\n",
      "[Parallel(n_jobs=10)]: Using backend ThreadingBackend with 10 concurrent workers.\n",
      "[Parallel(n_jobs=10)]: Done   2 out of  10 | elapsed:    1.9s remaining:    7.4s\n",
      "[Parallel(n_jobs=10)]: Done  10 out of  10 | elapsed:    1.9s finished\n",
      "[Parallel(n_jobs=-1)]: Using backend ThreadingBackend with 10 concurrent workers.\n",
      "[Parallel(n_jobs=-1)]: Done  30 tasks      | elapsed:   24.0s\n",
      "[Parallel(n_jobs=-1)]: Done  50 out of  50 | elapsed:   37.7s finished\n",
      "[Parallel(n_jobs=10)]: Using backend ThreadingBackend with 10 concurrent workers.\n",
      "[Parallel(n_jobs=10)]: Done  30 tasks      | elapsed:    5.5s\n",
      "[Parallel(n_jobs=10)]: Done  50 out of  50 | elapsed:    9.1s finished\n",
      "[Parallel(n_jobs=-1)]: Using backend ThreadingBackend with 10 concurrent workers.\n",
      "[Parallel(n_jobs=-1)]: Done  30 tasks      | elapsed:   23.3s\n",
      "[Parallel(n_jobs=-1)]: Done  50 out of  50 | elapsed:   38.0s finished\n",
      "[Parallel(n_jobs=10)]: Using backend ThreadingBackend with 10 concurrent workers.\n",
      "[Parallel(n_jobs=10)]: Done  30 tasks      | elapsed:    5.4s\n",
      "[Parallel(n_jobs=10)]: Done  50 out of  50 | elapsed:    8.9s finished\n",
      "[Parallel(n_jobs=-1)]: Using backend ThreadingBackend with 10 concurrent workers.\n",
      "[Parallel(n_jobs=-1)]: Done  30 tasks      | elapsed:   24.9s\n",
      "[Parallel(n_jobs=-1)]: Done  50 out of  50 | elapsed:   38.5s finished\n",
      "[Parallel(n_jobs=10)]: Using backend ThreadingBackend with 10 concurrent workers.\n",
      "[Parallel(n_jobs=10)]: Done  30 tasks      | elapsed:    5.7s\n",
      "[Parallel(n_jobs=10)]: Done  50 out of  50 | elapsed:    9.4s finished\n",
      "[Parallel(n_jobs=-1)]: Using backend ThreadingBackend with 10 concurrent workers.\n",
      "[Parallel(n_jobs=-1)]: Done  30 tasks      | elapsed:   23.9s\n",
      "[Parallel(n_jobs=-1)]: Done 100 out of 100 | elapsed:  1.3min finished\n",
      "[Parallel(n_jobs=10)]: Using backend ThreadingBackend with 10 concurrent workers.\n",
      "[Parallel(n_jobs=10)]: Done  30 tasks      | elapsed:    5.5s\n",
      "[Parallel(n_jobs=10)]: Done 100 out of 100 | elapsed:   18.2s finished\n",
      "[Parallel(n_jobs=-1)]: Using backend ThreadingBackend with 10 concurrent workers.\n",
      "[Parallel(n_jobs=-1)]: Done  30 tasks      | elapsed:   23.4s\n",
      "[Parallel(n_jobs=-1)]: Done 100 out of 100 | elapsed:  1.3min finished\n",
      "[Parallel(n_jobs=10)]: Using backend ThreadingBackend with 10 concurrent workers.\n",
      "[Parallel(n_jobs=10)]: Done  30 tasks      | elapsed:    5.3s\n",
      "[Parallel(n_jobs=10)]: Done 100 out of 100 | elapsed:   17.8s finished\n",
      "[Parallel(n_jobs=-1)]: Using backend ThreadingBackend with 10 concurrent workers.\n",
      "[Parallel(n_jobs=-1)]: Done  30 tasks      | elapsed:   25.0s\n",
      "[Parallel(n_jobs=-1)]: Done 100 out of 100 | elapsed:  1.4min finished\n",
      "[Parallel(n_jobs=10)]: Using backend ThreadingBackend with 10 concurrent workers.\n",
      "[Parallel(n_jobs=10)]: Done  30 tasks      | elapsed:    5.7s\n",
      "[Parallel(n_jobs=10)]: Done 100 out of 100 | elapsed:   18.8s finished\n",
      "[Parallel(n_jobs=-1)]: Using backend ThreadingBackend with 10 concurrent workers.\n",
      "[Parallel(n_jobs=-1)]: Done  30 tasks      | elapsed:   45.2s\n"
     ]
    },
    {
     "name": "stdout",
     "output_type": "stream",
     "text": [
      "Best cross-validation C-index score: 0.9740\n",
      "Best cross-validated parameters:\n",
      " {'estimator__max_depth': 5, 'estimator__min_samples_split': 20, 'estimator__n_estimators': 100}\n",
      "Training finished at: 2025-05-24 16:38:21\n",
      "Total training time: 0:13:44.295141\n"
     ]
    },
    {
     "name": "stderr",
     "output_type": "stream",
     "text": [
      "[Parallel(n_jobs=-1)]: Done 100 out of 100 | elapsed:  2.5min finished\n"
     ]
    }
   ],
   "source": [
    "start_time = time.time()\n",
    "start_datetime = datetime.now()\n",
    "print(f\"Training started at: {start_datetime.strftime('%Y-%m-%d %H:%M:%S')}\")\n",
    "\n",
    "print(\"Starting GridSearchCV to find optimal parameters...\")\n",
    "rsf = RandomSurvivalForest(\n",
    "    min_samples_leaf=2, n_jobs=-1, random_state=0, verbose=1\n",
    ")\n",
    "\n",
    "cv = KFold(n_splits=3, shuffle=True, random_state=1)\n",
    "cv_param_grid = {\n",
    "    # \"estimator__max_depth\": [1, 5, 10, 20],\n",
    "    # \"estimator__n_estimators\": [10, 20, 50, 100],\n",
    "    # \"estimator__min_samples_split\": [20, 50]\n",
    "    \"estimator__max_depth\": [1, 5],\n",
    "    \"estimator__n_estimators\": [10, 50, 100],\n",
    "    \"estimator__min_samples_split\": [20]\n",
    "}\n",
    "\n",
    "cv_cindex = GridSearchCV(\n",
    "    as_concordance_index_ipcw_scorer(rsf, tau=cdiff_times[-1]),\n",
    "    param_grid=cv_param_grid,\n",
    "    cv=cv,\n",
    ").fit(X_train, y_array_event_time_train)\n",
    "\n",
    "best_model_rsf = cv_cindex.best_estimator_\n",
    "\n",
    "best_model_rsf_params = cv_cindex.best_params_\n",
    "print(f\"Best cross-validation C-index score: {cv_cindex.best_score_:.4f}\")\n",
    "print(f\"Best cross-validated parameters:\\n {best_model_rsf_params}\")\n",
    "end_time = time.time()\n",
    "end_datetime = datetime.now()\n",
    "\n",
    "duration_seconds = end_time - start_time\n",
    "duration = timedelta(seconds=duration_seconds)\n",
    "\n",
    "print(f\"Training finished at: {end_datetime.strftime('%Y-%m-%d %H:%M:%S')}\")\n",
    "print(f\"Total training time: {duration}\")"
   ]
  },
  {
   "cell_type": "code",
   "execution_count": 8,
   "id": "abe7115b-724d-495d-9525-ed49aa602aee",
   "metadata": {},
   "outputs": [
    {
     "ename": "TypeError",
     "evalue": "RandomSurvivalForest.__init__() got an unexpected keyword argument 'estimator__max_depth'",
     "output_type": "error",
     "traceback": [
      "\u001b[31m---------------------------------------------------------------------------\u001b[39m",
      "\u001b[31mTypeError\u001b[39m                                 Traceback (most recent call last)",
      "\u001b[36mCell\u001b[39m\u001b[36m \u001b[39m\u001b[32mIn[8]\u001b[39m\u001b[32m, line 1\u001b[39m\n\u001b[32m----> \u001b[39m\u001b[32m1\u001b[39m rsf_best = \u001b[43mRandomSurvivalForest\u001b[49m\u001b[43m(\u001b[49m\n\u001b[32m      2\u001b[39m \u001b[43m    \u001b[49m\u001b[43m*\u001b[49m\u001b[43m*\u001b[49m\u001b[43mbest_model_rsf_params\u001b[49m\u001b[43m,\u001b[49m\u001b[43m \u001b[49m\u001b[43mn_jobs\u001b[49m\u001b[43m=\u001b[49m\u001b[43m-\u001b[49m\u001b[32;43m1\u001b[39;49m\u001b[43m,\u001b[49m\u001b[43m \u001b[49m\u001b[43mrandom_state\u001b[49m\u001b[43m=\u001b[49m\u001b[32;43m0\u001b[39;49m\n\u001b[32m      3\u001b[39m \u001b[43m)\u001b[49m\n\u001b[32m      4\u001b[39m rsf_best.fit(X_train, y_array_event_time_train)\n",
      "\u001b[31mTypeError\u001b[39m: RandomSurvivalForest.__init__() got an unexpected keyword argument 'estimator__max_depth'"
     ]
    }
   ],
   "source": [
    "rsf_best = RandomSurvivalForest(\n",
    "    **best_model_rsf_params, n_jobs=-1, random_state=0\n",
    ")\n",
    "rsf_best.fit(X_train, y_array_event_time_train)"
   ]
  },
  {
   "cell_type": "code",
   "execution_count": 16,
   "id": "aa867fe2-730c-44a8-aad5-ac51044780ce",
   "metadata": {},
   "outputs": [
    {
     "data": {
      "text/plain": [
       "['2025-05-24_16:41_rsf_bestmodel.joblib']"
      ]
     },
     "execution_count": 16,
     "metadata": {},
     "output_type": "execute_result"
    }
   ],
   "source": [
    "joblib.dump(best_model_rsf, f'{datetime.now().strftime(\"%Y-%m-%d_%H:%M\")}_rsf_bestmodel.joblib')"
   ]
  },
  {
   "cell_type": "markdown",
   "id": "bd1c853c-151e-4634-bb2f-236344cfa51a",
   "metadata": {},
   "source": [
    "# Test Model!"
   ]
  },
  {
   "cell_type": "code",
   "execution_count": 20,
   "id": "7e42402b-a5a9-4545-8c8e-88b8c3b8f00c",
   "metadata": {},
   "outputs": [
    {
     "name": "stderr",
     "output_type": "stream",
     "text": [
      "[Parallel(n_jobs=10)]: Using backend ThreadingBackend with 10 concurrent workers.\n",
      "[Parallel(n_jobs=10)]: Done  30 tasks      | elapsed:    4.8s\n",
      "[Parallel(n_jobs=10)]: Done 100 out of 100 | elapsed:   16.1s finished\n"
     ]
    },
    {
     "data": {
      "text/plain": [
       "np.float64(0.9752486121777576)"
      ]
     },
     "execution_count": 20,
     "metadata": {},
     "output_type": "execute_result"
    }
   ],
   "source": [
    "loaded_model = joblib.load('2025-05-24_16:41_rsf_bestmodel.joblib')\n",
    "c_index_val = loaded_model.score(cdiff_X_test, cdiff_y_test)\n",
    "c_index_val"
   ]
  },
  {
   "cell_type": "code",
   "execution_count": null,
   "id": "e80e732f-606f-436e-9327-0d9e9e6377b0",
   "metadata": {},
   "outputs": [],
   "source": []
  }
 ],
 "metadata": {
  "kernelspec": {
   "display_name": "Python 3 (ipykernel)",
   "language": "python",
   "name": "python3"
  },
  "language_info": {
   "codemirror_mode": {
    "name": "ipython",
    "version": 3
   },
   "file_extension": ".py",
   "mimetype": "text/x-python",
   "name": "python",
   "nbconvert_exporter": "python",
   "pygments_lexer": "ipython3",
   "version": "3.13.3"
  }
 },
 "nbformat": 4,
 "nbformat_minor": 5
}
