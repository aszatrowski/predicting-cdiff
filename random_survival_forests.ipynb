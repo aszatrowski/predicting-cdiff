{
 "cells": [
  {
   "cell_type": "markdown",
   "id": "45d8fa63",
   "metadata": {},
   "source": [
    "# Random Survival Forest Model"
   ]
  },
  {
   "cell_type": "code",
   "execution_count": 1,
   "id": "8fbfcb42",
   "metadata": {},
   "outputs": [],
   "source": [
    "import pandas as pd\n",
    "import numpy as np\n",
    "import matplotlib as plt\n",
    "import seaborn as sns\n",
    "\n",
    "from sklearn import set_config\n",
    "from sklearn.model_selection import train_test_split\n",
    "from sklearn.model_selection import KFold, GridSearchCV, StratifiedKFold\n",
    "\n",
    "from sksurv.ensemble import RandomSurvivalForest\n",
    "from sksurv.metrics import concordance_index_censored, as_concordance_index_ipcw_scorer, as_cumulative_dynamic_auc_scorer, as_integrated_brier_score_scorer\n",
    "\n",
    "import time\n",
    "from datetime import datetime, timedelta"
   ]
  },
  {
   "cell_type": "code",
   "execution_count": 2,
   "id": "b9a1a252",
   "metadata": {},
   "outputs": [],
   "source": [
    "training_data_imputed_df = pd.read_csv(\"training_data_imputed_simple_TRAIN.csv.gz\") \n",
    "# Filter to 30 day window\n",
    "survival_data_30d = training_data_imputed_df.loc[\n",
    "    (training_data_imputed_df['survival_time'] < 30) &\n",
    "    (training_data_imputed_df['survival_time'] > 0)\n",
    "    ]\n",
    "survival_data_30d = survival_data_30d.astype({\"cdiff_survival_flag\": bool})"
   ]
  },
  {
   "cell_type": "code",
   "execution_count": 3,
   "id": "2c4811bc",
   "metadata": {},
   "outputs": [],
   "source": [
    "train_df, val_df, = train_test_split(survival_data_30d, test_size=0.2, random_state=0)"
   ]
  },
  {
   "cell_type": "code",
   "execution_count": 4,
   "id": "f0c00c65",
   "metadata": {},
   "outputs": [],
   "source": [
    "X_train = train_df.drop(['cdiff_2d_flag', 'cdiff_7d_flag', 'cdiff_30d_flag','cdiff_label_elisa_2d','cdiff_survival_flag','survival_time'], axis=1)\n",
    "y_train = train_df[['cdiff_survival_flag', 'survival_time']]\n",
    "y_array_event_time_train = np.array(\n",
    "    list(zip(y_train['cdiff_survival_flag'], y_train['survival_time'])), \n",
    "    dtype=[('status', bool), ('survival_in_days', float)]\n",
    ")\n",
    "X_val = val_df.drop(['cdiff_2d_flag', 'cdiff_7d_flag', 'cdiff_30d_flag', 'cdiff_survival_flag', 'survival_time'], axis=1)\n",
    "y_val = val_df[['cdiff_survival_flag', 'survival_time']]\n",
    "y_array_event_time_val = np.array(\n",
    "    list(zip(y_val['cdiff_survival_flag'], y_val['survival_time'])), \n",
    "    dtype=[('status', bool), ('survival_in_days', float)]\n",
    ")"
   ]
  },
  {
   "cell_type": "code",
   "execution_count": 5,
   "id": "f3775a88-bcc1-46ff-b06f-e64312c78909",
   "metadata": {
    "scrolled": true
   },
   "outputs": [],
   "source": [
    "cdiff_X_train, cdiff_X_test, cdiff_y_train, cdiff_y_test = train_test_split(\n",
    "    X_train, y_array_event_time_train, stratify=y_array_event_time_train['status'], random_state=1\n",
    ")\n",
    "lower, upper = np.percentile(y_array_event_time_train['survival_in_days'], [10, 90])\n",
    "cdiff_times = np.arange(lower, upper + 1)"
   ]
  },
  {
   "cell_type": "code",
   "execution_count": null,
   "id": "54e5e5c4-8eff-4154-9f83-92e6eaaa3cf0",
   "metadata": {
    "scrolled": true
   },
   "outputs": [
    {
     "name": "stdout",
     "output_type": "stream",
     "text": [
      "Training started at: 2025-05-24 16:06:10\n",
      "Starting GridSearchCV to find optimal parameters...\n"
     ]
    },
    {
     "name": "stderr",
     "output_type": "stream",
     "text": [
      "[Parallel(n_jobs=-1)]: Using backend ThreadingBackend with 10 concurrent workers.\n",
      "[Parallel(n_jobs=-1)]: Done   2 out of   2 | elapsed:    1.8s finished\n",
      "[Parallel(n_jobs=2)]: Using backend ThreadingBackend with 2 concurrent workers.\n",
      "[Parallel(n_jobs=2)]: Done   2 out of   2 | elapsed:    1.6s finished\n",
      "[Parallel(n_jobs=-1)]: Using backend ThreadingBackend with 10 concurrent workers.\n",
      "[Parallel(n_jobs=-1)]: Done   2 out of   2 | elapsed:    1.9s finished\n",
      "[Parallel(n_jobs=2)]: Using backend ThreadingBackend with 2 concurrent workers.\n",
      "[Parallel(n_jobs=2)]: Done   2 out of   2 | elapsed:    1.5s finished\n",
      "[Parallel(n_jobs=-1)]: Using backend ThreadingBackend with 10 concurrent workers.\n",
      "[Parallel(n_jobs=-1)]: Done   2 out of   2 | elapsed:    1.9s finished\n",
      "[Parallel(n_jobs=2)]: Using backend ThreadingBackend with 2 concurrent workers.\n",
      "[Parallel(n_jobs=2)]: Done   2 out of   2 | elapsed:    1.6s finished\n",
      "[Parallel(n_jobs=-1)]: Using backend ThreadingBackend with 10 concurrent workers.\n",
      "[Parallel(n_jobs=-1)]: Done   5 out of   5 | elapsed:    2.7s finished\n",
      "[Parallel(n_jobs=5)]: Using backend ThreadingBackend with 5 concurrent workers.\n"
     ]
    }
   ],
   "source": [
    "start_time = time.time()\n",
    "start_datetime = datetime.now()\n",
    "print(f\"Training started at: {start_datetime.strftime('%Y-%m-%d %H:%M:%S')}\")\n",
    "\n",
    "print(\"Starting GridSearchCV to find optimal parameters...\")\n",
    "rsf = RandomSurvivalForest(\n",
    "    min_samples_leaf=2, n_jobs=-1, random_state=0, verbose=1\n",
    ")\n",
    "\n",
    "cv = KFold(n_splits=3, shuffle=True, random_state=1)\n",
    "cv_param_grid = {\n",
    "    \"estimator__max_depth\": np.arange(1, 5, dtype=int),\n",
    "    \"estimator__n_estimators\": [2, 5, 10, 20],\n",
    "    \"estimator__min_samples_split\": [20, 50]\n",
    "}\n",
    "\n",
    "cv_cindex = GridSearchCV(\n",
    "    as_concordance_index_ipcw_scorer(rsf, tau=cdiff_times[-1]),\n",
    "    param_grid=cv_param_grid,\n",
    "    cv=cv,\n",
    ").fit(X_train, y_array_event_time_train)\n",
    "\n",
    "best_model_rsf = cv_cindex.best_estimator_\n",
    "\n",
    "best_model_rsf_params = cv_cindex.best_params_\n",
    "print(f\"Best cross-validation C-index score: {cv_cindex.best_score_:.4f}\")\n",
    "print(f\"Best cross-validated parameters:\\n {best_model_rsf_params}\")\n",
    "end_time = time.time()\n",
    "end_datetime = datetime.now()\n",
    "\n",
    "duration_seconds = end_time - start_time\n",
    "duration = timedelta(seconds=duration_seconds)\n",
    "\n",
    "print(f\"Training finished at: {end_datetime.strftime('%Y-%m-%d %H:%M:%S')}\")\n",
    "print(f\"Total training time: {duration}\")"
   ]
  },
  {
   "cell_type": "code",
   "execution_count": 1,
   "id": "abe7115b-724d-495d-9525-ed49aa602aee",
   "metadata": {},
   "outputs": [
    {
     "ename": "NameError",
     "evalue": "name 'RandomSurvivalForest' is not defined",
     "output_type": "error",
     "traceback": [
      "\u001b[31m---------------------------------------------------------------------------\u001b[39m",
      "\u001b[31mNameError\u001b[39m                                 Traceback (most recent call last)",
      "\u001b[36mCell\u001b[39m\u001b[36m \u001b[39m\u001b[32mIn[1]\u001b[39m\u001b[32m, line 1\u001b[39m\n\u001b[32m----> \u001b[39m\u001b[32m1\u001b[39m rsf_best = \u001b[43mRandomSurvivalForest\u001b[49m(\n\u001b[32m      2\u001b[39m     **best_model_rsf_params, n_jobs=-\u001b[32m1\u001b[39m, random_state=\u001b[32m0\u001b[39m\n\u001b[32m      3\u001b[39m )\n\u001b[32m      4\u001b[39m rsf_best.fit(X_train, y_array_event_time_train)\n",
      "\u001b[31mNameError\u001b[39m: name 'RandomSurvivalForest' is not defined"
     ]
    }
   ],
   "source": [
    "rsf_best = RandomSurvivalForest(\n",
    "    **best_model_rsf_params, n_jobs=-1, random_state=0\n",
    ")\n",
    "rsf_best.fit(X_train, y_array_event_time_train)"
   ]
  },
  {
   "cell_type": "code",
   "execution_count": null,
   "id": "28c96ae6",
   "metadata": {
    "scrolled": true
   },
   "outputs": [],
   "source": [
    "c_index_val = rsf_best.score(X_val, y_array_event_time_val)\n",
    "c_index_val"
   ]
  }
 ],
 "metadata": {
  "kernelspec": {
   "display_name": "Python 3 (ipykernel)",
   "language": "python",
   "name": "python3"
  },
  "language_info": {
   "codemirror_mode": {
    "name": "ipython",
    "version": 3
   },
   "file_extension": ".py",
   "mimetype": "text/x-python",
   "name": "python",
   "nbconvert_exporter": "python",
   "pygments_lexer": "ipython3",
   "version": "3.13.3"
  }
 },
 "nbformat": 4,
 "nbformat_minor": 5
}
